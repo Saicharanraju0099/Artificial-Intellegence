{
 "cells": [
  {
   "cell_type": "markdown",
   "id": "21e23a80",
   "metadata": {},
   "source": [
    "### Pydantic Basics : creating and using models\n",
    "\n",
    "**Pydantic models are Python classes used for data validation, parsing, and serialization. They are a core component for defining data structures with type hints and ensuring data integrity.**"
   ]
  },
  {
   "cell_type": "code",
   "execution_count": 1,
   "id": "9b541d07",
   "metadata": {},
   "outputs": [],
   "source": [
    "from dataclasses import dataclass\n",
    "@dataclass\n",
    "class Person():\n",
    "    name:str\n",
    "    age : int\n",
    "    city : str\n",
    "    "
   ]
  },
  {
   "cell_type": "code",
   "execution_count": 2,
   "id": "a352676d",
   "metadata": {},
   "outputs": [
    {
     "name": "stdout",
     "output_type": "stream",
     "text": [
      "Person(name='sai', age=20, city='Delhi')\n"
     ]
    }
   ],
   "source": [
    "person = Person(name=\"sai\",age=20,city=\"Delhi\")\n",
    "print(person)"
   ]
  },
  {
   "cell_type": "code",
   "execution_count": 3,
   "id": "df710717",
   "metadata": {},
   "outputs": [
    {
     "name": "stdout",
     "output_type": "stream",
     "text": [
      "Person(name='sai', age=20, city=20)\n"
     ]
    }
   ],
   "source": [
    "person = Person(name=\"sai\",age=20,city=20)  #here there is a problem with object instead of string it is taking a int value also\n",
    "print(person) "
   ]
  },
  {
   "cell_type": "code",
   "execution_count": 4,
   "id": "326859bd",
   "metadata": {},
   "outputs": [],
   "source": [
    "# Pydantic\n",
    "from pydantic import BaseModel\n"
   ]
  },
  {
   "cell_type": "code",
   "execution_count": 5,
   "id": "6f65d7d0",
   "metadata": {},
   "outputs": [
    {
     "name": "stdout",
     "output_type": "stream",
     "text": [
      "name='sai' age=20 city='Jaipur'\n"
     ]
    }
   ],
   "source": [
    "class person1(BaseModel):\n",
    "    name : str\n",
    "    age  : int\n",
    "    city : str\n",
    "person = person1(name=\"sai\",age=20,city=\"Jaipur\")\n",
    "print(person)"
   ]
  },
  {
   "cell_type": "code",
   "execution_count": null,
   "id": "4a1b31cf",
   "metadata": {},
   "outputs": [],
   "source": [
    "person1 = person1(name=\"sai\",age=20,city=20) ##ValidationError: 1 validation error for person1 city Input should be a valid string \n",
    "print(person1)"
   ]
  },
  {
   "cell_type": "code",
   "execution_count": null,
   "id": "5f193c83",
   "metadata": {},
   "outputs": [
    {
     "name": "stdout",
     "output_type": "stream",
     "text": [
      "name='sai' age=20 city='20'\n"
     ]
    }
   ],
   "source": [
    "person1 = person1(name=\"sai\",age=20,city='20')\n",
    "print(person1)"
   ]
  },
  {
   "cell_type": "markdown",
   "id": "6fd0b08d",
   "metadata": {},
   "source": [
    "### 2. Model with Optional Fields\n",
    "**Add Optional fields using Python's Optional Type**\n"
   ]
  },
  {
   "cell_type": "code",
   "execution_count": null,
   "id": "f0c0b522",
   "metadata": {},
   "outputs": [
    {
     "name": "stdout",
     "output_type": "stream",
     "text": [
      "id=1 name='bramesh' department='HR' salary=25000.0 is_active=False\n"
     ]
    }
   ],
   "source": [
    "from typing import Optional\n",
    "class employee(BaseModel):\n",
    "    id : int\n",
    "    name : str\n",
    "    department : str\n",
    "    salary : Optional[float] = None # Optional with default value otherwise none\n",
    "    is_active : Optional[bool] = True # Optional Field with default value\n",
    "\n",
    "\n",
    "emp1 = employee(id=1,name=\"bramesh\",department=\"HR\",salary=25000,is_active=False)\n",
    "print(emp1)"
   ]
  },
  {
   "cell_type": "markdown",
   "id": "d228810b",
   "metadata": {},
   "source": [
    "### Pydantic Fields: Customization and Constraints\n",
    "\n",
    "**Pydantic provides powerful tools for defining fields, customizing their behavior, and working with aliases to create flexible, user-friendly models. By the end of this post, you’ll understand how to define and validate attributes with fields and use aliases to adapt models to diverse use cases.**"
   ]
  },
  {
   "cell_type": "code",
   "execution_count": 9,
   "id": "7f416757",
   "metadata": {},
   "outputs": [
    {
     "name": "stdout",
     "output_type": "stream",
     "text": [
      "name='books' price=284.0 quantity=20\n"
     ]
    }
   ],
   "source": [
    "from pydantic import BaseModel,Field\n",
    "class Item(BaseModel):\n",
    "    name:str=Field(min_length=2,max_length=30)\n",
    "    price : float=Field(gt=0,le=10000)\n",
    "    quantity : int = Field(ge=0)\n",
    "\n",
    "item = Item(name=\"books\",price=284,quantity=20)\n",
    "print(item)\n",
    "\n"
   ]
  },
  {
   "cell_type": "code",
   "execution_count": null,
   "id": "cfca2e40",
   "metadata": {},
   "outputs": [
    {
     "name": "stdout",
     "output_type": "stream",
     "text": [
      "username='Alice' age=18 email='user@example.com'\n"
     ]
    }
   ],
   "source": [
    "class User(BaseModel):\n",
    "    username:str = Field(description=\"Unique username for the user\")\n",
    "    age : int = Field(default=18,description=\"User age default to 18\")\n",
    "    email : str = Field(default_factory=lambda:\"user@example.com\",description=\"Default email address\")\n",
    "    \n",
    "User_1 = User(username=\"Alice\")\n",
    "print(User_1)"
   ]
  },
  {
   "cell_type": "code",
   "execution_count": 15,
   "id": "15d0bc42",
   "metadata": {},
   "outputs": [
    {
     "name": "stdout",
     "output_type": "stream",
     "text": [
      "username='Alice' age=20 email='Alice232@gmail.com'\n"
     ]
    }
   ],
   "source": [
    "User_1 = User(username=\"Alice\",age=20,email=\"Alice232@gmail.com\")\n",
    "print(User_1)"
   ]
  },
  {
   "cell_type": "code",
   "execution_count": 24,
   "id": "8630c288",
   "metadata": {},
   "outputs": [
    {
     "data": {
      "text/plain": [
       "{'properties': {'username': {'description': 'Unique username for the user',\n",
       "   'title': 'Username',\n",
       "   'type': 'string'},\n",
       "  'age': {'default': 18,\n",
       "   'description': 'User age default to 18',\n",
       "   'title': 'Age',\n",
       "   'type': 'integer'},\n",
       "  'email': {'description': 'Default email address',\n",
       "   'title': 'Email',\n",
       "   'type': 'string'}},\n",
       " 'required': ['username'],\n",
       " 'title': 'User',\n",
       " 'type': 'object'}"
      ]
     },
     "execution_count": 24,
     "metadata": {},
     "output_type": "execute_result"
    }
   ],
   "source": [
    "User.model_json_schema()"
   ]
  },
  {
   "cell_type": "code",
   "execution_count": null,
   "id": "3ef8aeda",
   "metadata": {},
   "outputs": [],
   "source": []
  }
 ],
 "metadata": {
  "kernelspec": {
   "display_name": "artificialintellegence",
   "language": "python",
   "name": "python3"
  },
  "language_info": {
   "codemirror_mode": {
    "name": "ipython",
    "version": 3
   },
   "file_extension": ".py",
   "mimetype": "text/x-python",
   "name": "python",
   "nbconvert_exporter": "python",
   "pygments_lexer": "ipython3",
   "version": "3.12.3"
  }
 },
 "nbformat": 4,
 "nbformat_minor": 5
}
