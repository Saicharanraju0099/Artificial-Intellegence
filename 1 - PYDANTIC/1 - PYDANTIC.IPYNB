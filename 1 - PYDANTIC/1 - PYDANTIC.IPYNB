{
 "cells": [
  {
   "cell_type": "markdown",
   "id": "21e23a80",
   "metadata": {},
   "source": [
    "### Pydantic Basics : creating and using models\n",
    "\n",
    "**Pydantic models are Python classes used for data validation, parsing, and serialization. They are a core component for defining data structures with type hints and ensuring data integrity.**"
   ]
  },
  {
   "cell_type": "code",
   "execution_count": 1,
   "id": "9b541d07",
   "metadata": {},
   "outputs": [],
   "source": [
    "from dataclasses import dataclass\n",
    "@dataclass\n",
    "class Person():\n",
    "    name:str\n",
    "    age : int\n",
    "    city : str\n",
    "    "
   ]
  },
  {
   "cell_type": "code",
   "execution_count": 2,
   "id": "a352676d",
   "metadata": {},
   "outputs": [
    {
     "name": "stdout",
     "output_type": "stream",
     "text": [
      "Person(name='sai', age=20, city='Delhi')\n"
     ]
    }
   ],
   "source": [
    "person = Person(name=\"sai\",age=20,city=\"Delhi\")\n",
    "print(person)"
   ]
  },
  {
   "cell_type": "code",
   "execution_count": null,
   "id": "df710717",
   "metadata": {},
   "outputs": [
    {
     "name": "stdout",
     "output_type": "stream",
     "text": [
      "Person(name='sai', age=20, city=20)\n"
     ]
    }
   ],
   "source": [
    "person = Person(name=\"sai\",age=20,city=20)  #here there is a problem with object instead of string it is taking a int value also\n",
    "print(person) "
   ]
  },
  {
   "cell_type": "code",
   "execution_count": null,
   "id": "326859bd",
   "metadata": {},
   "outputs": [],
   "source": [
    "# Pydantic\n",
    "from pydantic import BaseModel\n"
   ]
  },
  {
   "cell_type": "code",
   "execution_count": 8,
   "id": "6f65d7d0",
   "metadata": {},
   "outputs": [
    {
     "name": "stdout",
     "output_type": "stream",
     "text": [
      "name='sai' age=20 city='Jaipur'\n"
     ]
    }
   ],
   "source": [
    "class person1(BaseModel):\n",
    "    name : str\n",
    "    age  : int\n",
    "    city : str\n",
    "person = person1(name=\"sai\",age=20,city=\"Jaipur\")\n",
    "print(person)"
   ]
  },
  {
   "cell_type": "code",
   "execution_count": null,
   "id": "4a1b31cf",
   "metadata": {},
   "outputs": [],
   "source": [
    "person1 = person1(name=\"sai\",age=20,city=20) ##ValidationError: 1 validation error for person1 city Input should be a valid string \n",
    "print(person1)"
   ]
  },
  {
   "cell_type": "code",
   "execution_count": 11,
   "id": "5f193c83",
   "metadata": {},
   "outputs": [
    {
     "name": "stdout",
     "output_type": "stream",
     "text": [
      "name='sai' age=20 city='20'\n"
     ]
    }
   ],
   "source": [
    "person1 = person1(name=\"sai\",age=20,city='20')\n",
    "print(person1)"
   ]
  },
  {
   "cell_type": "code",
   "execution_count": 13,
   "id": "f0c0b522",
   "metadata": {},
   "outputs": [
    {
     "name": "stdout",
     "output_type": "stream",
     "text": [
      "coding\n"
     ]
    }
   ],
   "source": [
    "print(\"coding\")"
   ]
  },
  {
   "cell_type": "code",
   "execution_count": null,
   "id": "3a7a1d01",
   "metadata": {},
   "outputs": [],
   "source": []
  }
 ],
 "metadata": {
  "kernelspec": {
   "display_name": "artificialintellegence",
   "language": "python",
   "name": "python3"
  },
  "language_info": {
   "codemirror_mode": {
    "name": "ipython",
    "version": 3
   },
   "file_extension": ".py",
   "mimetype": "text/x-python",
   "name": "python",
   "nbconvert_exporter": "python",
   "pygments_lexer": "ipython3",
   "version": "3.12.3"
  }
 },
 "nbformat": 4,
 "nbformat_minor": 5
}
